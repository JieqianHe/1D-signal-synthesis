{
 "cells": [
  {
   "cell_type": "markdown",
   "metadata": {},
   "source": [
    "Note: *cudamat* is one option to do parallel computing for matrix computation"
   ]
  },
  {
   "cell_type": "code",
   "execution_count": 1,
   "metadata": {},
   "outputs": [],
   "source": [
    "import numpy as np\n",
    "import math\n",
    "import cmath\n",
    "import matplotlib.pyplot as plt\n",
    "from scipy import signal\n",
    "from scipy.optimize import least_squares\n",
    "from scipy.optimize import minimize\n",
    "from scipy.io import loadmat\n",
    "import random\n",
    "from numpy import linalg as LA\n",
    "import time\n",
    "\n",
    "from IPython import display\n",
    "# from numbapro import vectorize"
   ]
  },
  {
   "cell_type": "code",
   "execution_count": 2,
   "metadata": {},
   "outputs": [],
   "source": [
    "def window_filter_1d(n, s, xi, sigma):\n",
    "    # generate one 1D gabor wavelet \n",
    "    x = np.arange(n)\n",
    "    chi = np.zeros(n)\n",
    "    chi[0:s] = 1\n",
    "    o = np.exp(1j * xi * x)\n",
    "#     o = np.exp(1j * xi/s * x)\n",
    "    \n",
    "    psi = np.multiply(chi, o)\n",
    "    \n",
    "    psi_hat = np.fft.fft(psi)\n",
    "    return psi, psi_hat\n",
    "\n",
    "def window_filter_family_1d(n, s, xi, sigma = 1):\n",
    "    # generate a family of 1D gabor wavelets with specified scales and rotations in space\n",
    "    ns = s.shape[0]\n",
    "    nxi = xi.shape[0]\n",
    "    \n",
    "    psi = np.zeros((n, ns, nxi),dtype=complex)\n",
    "    psi_hat = np.zeros((n, ns, nxi),dtype=complex)\n",
    "    for i in range(ns):\n",
    "        for k in range(nxi):\n",
    "                psi[:, i, k], psi_hat[:, i, k] = window_filter_1d(n, int(s[i]), xi[k], sigma)\n",
    "    return psi, psi_hat\n",
    "\n",
    "def scat_coeff(x, g_hat):\n",
    "    f = np.sum(np.abs(wave_trans_in_freq_1d(x, g_hat)), axis = 0)\n",
    "    f = np.append(np.sum(x), f)\n",
    "    return f\n",
    "\n",
    "def wave_trans_in_freq_1d(x, psi_hat):\n",
    "    # wavelet transform in frequency\n",
    "    nx = x.shape\n",
    "    \n",
    "    x_hat = np.fft.fft(x)\n",
    "    f = np.zeros(psi_hat.shape, dtype = complex)\n",
    "    for i in range(psi_hat.shape[1]):\n",
    "        f[:,i] = np.fft.ifft(np.multiply(x_hat, psi_hat[:,i]))\n",
    "    return f\n",
    "\n",
    "def determine_sigma(epsilon):\n",
    "    sigma = np.sqrt(- 2 * np.log(epsilon)) / math.pi\n",
    "    return sigma\n",
    "\n",
    "def determine_J(N, Q, sigma, *alpha):\n",
    "    if len(alpha) == 0:\n",
    "        alpha = 3\n",
    "    J = np.log2(N) - np.log2(alpha) - np.log2(sigma) - 1\n",
    "    int_J = max(np.floor(J), 1);\n",
    "    frac_J = (1/Q) * np.around((J - int_J) * Q);\n",
    "    J = int_J + frac_J;\n",
    "    return J"
   ]
  },
  {
   "cell_type": "code",
   "execution_count": 3,
   "metadata": {},
   "outputs": [],
   "source": [
    "\n",
    "def diff(y0, sx, psi_hat, psi):\n",
    "    # difference vector between first moment wavelet coefficients\n",
    "    sy = scat_coeff(y0, psi_hat)\n",
    "    diff = np.sum((sy - sx)**2)\n",
    "    return diff\n",
    "\n",
    "\n",
    "def synthesis(sx, x, psi_hat, psi, max_err, max_epoch, *args):\n",
    "    # collect parameters\n",
    "    nx = psi_hat.shape[0]\n",
    "    nw = psi_hat.shape[1]  # number of wavelets \n",
    "    \n",
    "    # randomly initialize new signal\n",
    "    narg = len(args)\n",
    "    if narg == 0:\n",
    "        y0 = np.random.random(nx) \n",
    "    else:\n",
    "        y0 = args[0]\n",
    "    y = np.expand_dims(x, axis = 1)\n",
    "    \n",
    "    err = 1\n",
    "    epoch = 0\n",
    "    tic = time.time()\n",
    "    while (epoch < max_epoch):\n",
    "        \n",
    "        epoch += 1\n",
    "        ind = np.random.choice(nw, nw, replace = False) # randomize index of wavelets\n",
    "        print('epoch:', epoch)\n",
    "        \n",
    "        for i in range(nw):\n",
    "#             print('idx:',i)\n",
    "            res = minimize(diff, y0, args = (sx[np.append([0], ind[0:i+1] + 1)], psi_hat[:,ind[0:i+1]], \\\n",
    "                                                         psi[:,ind[0:i+1]]), jac = jac, method='BFGS')\n",
    "            y0 = res.x\n",
    "            y = np.append(y, np.reshape(y0, (y0.shape[0], 1)), axis = 1)\n",
    "            \n",
    "            err = res.fun\n",
    "            print('current error:', err)\n",
    "        \n",
    "    toc = time.time()\n",
    "    print('running time: ', toc - tic)\n",
    "    return y\n",
    "\n",
    "def jac(y0, sx, psi_hat, psi):\n",
    "    # jacobian function for difference\n",
    "    epsilon = 1e-6\n",
    "    n = psi_hat.shape[0]\n",
    "    nw = psi_hat.shape[1]\n",
    "    sy = scat_coeff(y0, psi_hat)\n",
    "    y_hat = np.fft.fft(np.fft.fftshift(y0))\n",
    "    \n",
    "    g = np.zeros(n)\n",
    "    \n",
    "    psi_shift = np.zeros((n,n), dtype = complex)    \n",
    "    \n",
    "    g = g + 2 * (sy[0] - sx[0]) * np.ones(n)\n",
    "\n",
    "    for i in range(nw):\n",
    "        temp1 = np.fft.fftshift(np.fft.ifft(np.multiply(y_hat, psi_hat[:,i])))\n",
    "        for p in range(n):\n",
    "            psi_shift[:, p] = np.roll(psi[:,i], p, axis = 0)\n",
    "        temp2 = np.matmul(np.divide(np.real(temp1), abs(temp1) + epsilon), np.real(psi_shift)) + \\\n",
    "                np.matmul(np.divide(np.imag(temp1), abs(temp1) + epsilon), np.imag(psi_shift))\n",
    "        g = g + 2 * (sy[i+1] - sx[i+1]) * temp2\n",
    "    return g"
   ]
  },
  {
   "cell_type": "code",
   "execution_count": 6,
   "metadata": {},
   "outputs": [],
   "source": [
    "n = 2**7\n",
    "pi = math.pi\n",
    "max_err = 1e-7\n",
    "max_epoch = 1\n",
    "\n",
    "epsilon = 1e-7\n",
    "\n",
    "# define filters\n",
    "sigma = determine_sigma(epsilon)\n",
    "Q = 2\n",
    "alpha = 2\n",
    "J = determine_J(n, Q, sigma, alpha) + 1\n",
    "# s = np.unique(np.floor(2 ** np.linspace(1, J, int(J*Q)+1-Q)))\n",
    "s = np.array([1,2,4,8,10,16,23,31,41,63,75,118])\n",
    "# xi = 2 * pi * np.random.choice(n,1) / n\n",
    "xi = np.array([3 * pi / 4, 23 * pi / 128]) # choose two frequencies\n",
    "g, g_hat = window_filter_family_1d(n, s, xi) # use characteristic window function\n",
    "g = np.reshape(g, (g.shape[0], -1))\n",
    "g_hat = np.reshape(g_hat, (g_hat.shape[0], -1))\n",
    "nwave = g_hat.shape[1]\n",
    "dy = np.zeros(n)\n",
    "ind_dirac = np.random.choice(int(n/2), 3, replace = False) * 2 # randomly select support\n",
    "dy[ind_dirac] = 1\n",
    "\n",
    "sx = scat_coeff(dy, g_hat)"
   ]
  },
  {
   "cell_type": "code",
   "execution_count": 7,
   "metadata": {},
   "outputs": [
    {
     "data": {
      "text/plain": [
       "[<matplotlib.lines.Line2D at 0x1c1ae6cda0>]"
      ]
     },
     "execution_count": 7,
     "metadata": {},
     "output_type": "execute_result"
    },
    {
     "data": {
      "image/png": "[encoded data removed]",
      "text/plain": [
       "<matplotlib.figure.Figure at 0x1c1adaddd8>"
      ]
     },
     "metadata": {},
     "output_type": "display_data"
    }
   ],
   "source": [
    "plt.plot(dy)"
   ]
  },
  {
   "cell_type": "code",
   "execution_count": 10,
   "metadata": {},
   "outputs": [
    {
     "name": "stdout",
     "output_type": "stream",
     "text": [
      "epoch: 1\n",
      "current error: 4.0990807157938066e-14\n",
      "current error: 1.435536482177575e-14\n",
      "current error: 2.0331880384869007e-14\n",
      "current error: 2.6292407241138824e-06\n",
      "current error: 4.2492346612975e-09\n",
      "current error: 1.4199731796288755e-08\n",
      "current error: 1.6174925346525867e-08\n",
      "current error: 1.953886204477312e-08\n",
      "current error: 1.4073845907024015e-08\n",
      "current error: 1.4226246729036763e-08\n",
      "current error: 0.006507399687962423\n",
      "current error: 0.007413597584617674\n",
      "current error: 1.1553692829355916e-07\n",
      "current error: 1.5833958372452885e-08\n",
      "current error: 1.1730847553254176e-08\n",
      "current error: 5.49167069646299e-08\n",
      "current error: 1.0624215008471614e-08\n",
      "current error: 9.898965135927573e-09\n",
      "current error: 1.1387529702451078e-08\n",
      "current error: 1.1485585996231676e-08\n",
      "current error: 1.9199160353744322e-08\n",
      "current error: 1.3064413156571348e-08\n",
      "current error: 4.144510810452987e-08\n",
      "current error: 6.950161793823603e-09\n",
      "running time:  218.03259086608887\n"
     ]
    }
   ],
   "source": [
    "res = synthesis(sx, dy, g_hat, g, max_err, max_epoch)"
   ]
  },
  {
   "cell_type": "code",
   "execution_count": 11,
   "metadata": {},
   "outputs": [
    {
     "data": {
      "text/plain": [
       "Text(0.5,1,'synthesized signal')"
      ]
     },
     "execution_count": 11,
     "metadata": {},
     "output_type": "execute_result"
    },
    {
     "data": {
      "image/png": "[encoded data removed]",
      "text/plain": [
       "<matplotlib.figure.Figure at 0x1c1aeb37f0>"
      ]
     },
     "metadata": {},
     "output_type": "display_data"
    }
   ],
   "source": [
    "plt.figure(figsize = (10, 8))\n",
    "plt.subplot(2,1,1)\n",
    "plt.plot(dy) # target signal\n",
    "plt.title('original signal')\n",
    "ax2 = plt.subplot(2,1,2)\n",
    "plt.plot(res[:, -1])\n",
    "plt.title('synthesized signal')\n",
    "# plt.savefig('syn_bump')"
   ]
  },
  {
   "cell_type": "code",
   "execution_count": 12,
   "metadata": {},
   "outputs": [
    {
     "name": "stdout",
     "output_type": "stream",
     "text": [
      "scattering of target: [  3.           3.           3.           6.           6.\n",
      "  12.          12.          24.          24.          30.\n",
      "  28.53757314  48.          42.15029255  69.          58.03179852\n",
      "  93.          76.18209107 121.24264069  94.4702333  171.32686412\n",
      " 123.91024834 198.15967985 141.86009866 268.23421475 181.49123054]\n",
      "scattering of synthesized: [  2.99998167   3.00003023   3.00003023   6.00002769   6.00003021\n",
      "  12.00000919  12.00001186  24.00001167  23.99999258  30.00001363\n",
      "  28.53756958  48.00001231  42.15029641  69.00000679  58.03180095\n",
      "  92.99999093  76.18208642 121.24263618  94.47022609 171.32688861\n",
      " 123.91026489 198.15964686 141.86008964 268.23422204 181.49123009]\n",
      "scattering difference with wavelets in optimization process: 6.950161793823603e-09\n"
     ]
    }
   ],
   "source": [
    "y0 = res[:,-1]\n",
    "x = res[:,0]\n",
    "sy = np.sum(np.abs(wave_trans_in_freq_1d(y0, g_hat)), axis = 0)\n",
    "# sy = np.append(np.sum(np.abs(y0)), sy)\n",
    "sy = np.append(np.sum(y0), sy)\n",
    "print('scattering of target:', sx)\n",
    "print('scattering of synthesized:', sy)\n",
    "print('scattering difference with wavelets in optimization process:', np.sum((sy - sx)**2))"
   ]
  },
  {
   "cell_type": "code",
   "execution_count": null,
   "metadata": {},
   "outputs": [],
   "source": []
  }
 ],
 "metadata": {
  "kernelspec": {
   "display_name": "Python 3",
   "language": "python",
   "name": "python3"
  },
  "language_info": {
   "codemirror_mode": {
    "name": "ipython",
    "version": 3
   },
   "file_extension": ".py",
   "mimetype": "text/x-python",
   "name": "python",
   "nbconvert_exporter": "python",
   "pygments_lexer": "ipython3",
   "version": "3.6.4"
  }
 },
 "nbformat": 4,
 "nbformat_minor": 2
}
