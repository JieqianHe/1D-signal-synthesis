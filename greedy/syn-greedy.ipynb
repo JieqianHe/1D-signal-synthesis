{
 "cells": [
  {
   "cell_type": "markdown",
   "metadata": {},
   "source": [
    "Note: *cudamat* is one option to do parallel computing for matrix computation"
   ]
  },
  {
   "cell_type": "code",
   "execution_count": 1,
   "metadata": {},
   "outputs": [],
   "source": [
    "import numpy as np\n",
    "import math\n",
    "import cmath\n",
    "import matplotlib.pyplot as plt\n",
    "from scipy import signal\n",
    "from scipy.optimize import least_squares\n",
    "from scipy.optimize import minimize\n",
    "from scipy.io import loadmat\n",
    "import random\n",
    "from numpy import linalg as LA\n",
    "import time\n",
    "from fun1d import *\n",
    "from poisson import *\n",
    "\n",
    "from IPython import display\n",
    "# from numbapro import vectorize"
   ]
  },
  {
   "cell_type": "code",
   "execution_count": 16,
   "metadata": {},
   "outputs": [],
   "source": [
    "def window_filter_1d(n, s, xi, sigma):\n",
    "    # generate one 1D gabor wavelet \n",
    "    x = np.arange(n)\n",
    "    chi = np.zeros(n)\n",
    "#     chi = gaussian(x, sigma*s)\n",
    "    chi[0:s] = 1\n",
    "    o = np.exp(1j * xi * x)\n",
    "#     o = np.exp(1j * xi/s * x)\n",
    "    \n",
    "    psi = np.multiply(chi, o)\n",
    "    \n",
    "#     omega = 2 * pi * x / n\n",
    "#     psi_hat = np.exp(-0.5 * sigma**2 * (xi - omega)**2)\n",
    "    psi_hat = np.fft.fft(psi)\n",
    "#     psi_hat = np.fft.fft(psi)\n",
    "    return psi, psi_hat\n",
    "\n",
    "def window_filter_family_1d(n, s, xi, sigma = 1):\n",
    "    # generate a family of 1D gabor wavelets with specified scales and rotations in space\n",
    "    ns = s.shape[0]\n",
    "    nxi = xi.shape[0]\n",
    "    \n",
    "    psi = np.zeros((n, ns, nxi),dtype=complex)\n",
    "    psi_hat = np.zeros((n, ns, nxi),dtype=complex)\n",
    "    for i in range(ns):\n",
    "        for k in range(nxi):\n",
    "                psi[:, i, k], psi_hat[:, i, k] = window_filter_1d(n, int(s[i]), xi[k], sigma)\n",
    "    return psi, psi_hat\n",
    "\n",
    "def bump_filter_1d(n, s, xi):\n",
    "    # generate one 1D window filter with bump function as window \n",
    "    x = np.arange(n) - np.floor(n/2)\n",
    "    chi = np.zeros(n)\n",
    "    z = int(n/2)\n",
    "    ind = np.arange(s - 1) + z + 1\n",
    "    chi[ind] = np.exp(- s**2 / (4 * s * x[ind] - 4 * x[ind]**2))\n",
    "    \n",
    "    o = np.exp(1j * xi * x)\n",
    "#     o = np.exp(1j * xi/s * x)\n",
    "    \n",
    "    psi = np.multiply(chi, o)\n",
    "    \n",
    "    psi_hat = np.fft.fftshift(np.fft.fft(np.fft.fftshift(psi)))\n",
    "    return psi, psi_hat\n",
    "\n",
    "def bump_filter_family_1d(n, s, xi):\n",
    "    # generate a family of 1D window filters with bump function as window\n",
    "    ns = s.shape[0]\n",
    "    nxi = xi.shape[0]\n",
    "    \n",
    "    psi = np.zeros((n, ns, nxi),dtype=complex)\n",
    "    psi_hat = np.zeros((n, ns, nxi),dtype=complex)\n",
    "    for i in range(ns):\n",
    "        for k in range(nxi):\n",
    "                psi[:, i, k], psi_hat[:, i, k] = bump_filter_1d(n, int(s[i]), xi[k])\n",
    "    return psi, psi_hat\n",
    "\n",
    "def diff(y0, sx, psi_hat, psi):\n",
    "    # difference vector between first moment wavelet coefficients\n",
    "    sy = scat_coeff(y0, psi_hat)\n",
    "    diff = np.sum((sy - sx)**2)\n",
    "    return diff\n",
    "\n",
    "\n",
    "def synthesis(sx, x, psi_hat, psi, max_err, max_epoch, *args):\n",
    "    # collect parameters\n",
    "    nx = psi_hat.shape[0]\n",
    "    nw = psi_hat.shape[1]  # number of wavelets \n",
    "    \n",
    "    # randomly initialize new signal\n",
    "    narg = len(args)\n",
    "    if narg == 0:\n",
    "        y0 = np.random.random(nx) \n",
    "    else:\n",
    "        y0 = args[0]\n",
    "    y = np.expand_dims(x, axis = 1)\n",
    "    \n",
    "    err = 1\n",
    "    epoch = 0\n",
    "    tic = time.time()\n",
    "    while (epoch < max_epoch):\n",
    "        \n",
    "        epoch += 1\n",
    "        ind = np.random.choice(nw, nw, replace = False) # randomize index of wavelets\n",
    "        print('epoch:', epoch)\n",
    "        \n",
    "        for i in range(nw):\n",
    "#             print('idx:',i)\n",
    "            res = minimize(diff, y0, args = (sx[np.append([0], ind[0:i+1] + 1)], psi_hat[:,ind[0:i+1]], \\\n",
    "                                                         psi[:,ind[0:i+1]]), jac = jac, method='BFGS')\n",
    "#             res = minimize(diff, y0, args = (sx[np.append([0], ind[0:i+1] + 1)], psi_hat[:,ind[0:i+1]], \\\n",
    "#                                                          psi[:,ind[0:i+1]]), method='BFGS',options = {'gtol': 1e-12})\n",
    "            y0 = res.x\n",
    "            y = np.append(y, np.reshape(y0, (y0.shape[0], 1)), axis = 1)\n",
    "            \n",
    "            err = res.fun\n",
    "            print('current error:', err)\n",
    "        \n",
    "    toc = time.time()\n",
    "    print('running time: ', toc - tic)\n",
    "    return y\n",
    "\n",
    "def jac(y0, sx, psi_hat, psi):\n",
    "    # jacobian function for difference\n",
    "    epsilon = 1e-6\n",
    "    n = psi_hat.shape[0]\n",
    "    nw = psi_hat.shape[1]\n",
    "    sy = scat_coeff(y0, psi_hat)\n",
    "    y_hat = np.fft.fft(np.fft.fftshift(y0))\n",
    "    \n",
    "    g = np.zeros(n)\n",
    "    \n",
    "    psi_shift = np.zeros((n,n), dtype = complex)    \n",
    "    \n",
    "    g = g + 2 * (sy[0] - sx[0]) * np.ones(n)\n",
    "#     temp3 = temp3 + 2 * (sy[1] - sx[1]) * np.sign(y0)\n",
    "\n",
    "    for i in range(nw):\n",
    "        temp1 = np.fft.fftshift(np.fft.ifft(np.multiply(y_hat, psi_hat[:,i])))\n",
    "        for p in range(n):\n",
    "            psi_shift[:, p] = np.roll(psi[:,i], p, axis = 0)\n",
    "        temp2 = np.matmul(np.divide(np.real(temp1), abs(temp1) + epsilon), np.real(psi_shift)) + \\\n",
    "                np.matmul(np.divide(np.imag(temp1), abs(temp1) + epsilon), np.imag(psi_shift))\n",
    "        g = g + 2 * (sy[i+1] - sx[i+1]) * temp2\n",
    "    return g"
   ]
  },
  {
   "cell_type": "code",
   "execution_count": 57,
   "metadata": {},
   "outputs": [],
   "source": [
    "n = 2**8\n",
    "l = 0.01\n",
    "pi = math.pi\n",
    "max_err = 1e-7\n",
    "max_epoch = 1\n",
    "\n",
    "epsilon = 1e-7\n",
    "\n",
    "# define filters\n",
    "sigma = determine_sigma(epsilon)\n",
    "Q = 2\n",
    "alpha = 2\n",
    "J = determine_J(n, Q, sigma, alpha) + 1\n",
    "# s = np.unique(np.floor(2 ** np.linspace(1, J, int(J*Q)+1-Q)))\n",
    "s = np.array([1,2,4,8,10,16,23,31,41,63,75,118])\n",
    "# xi = 2 * pi * np.random.choice(n,1) / n\n",
    "xi = np.array([3 * pi / 4, 23 * pi / 128]) # choose two frequencies\n",
    "g, g_hat = window_filter_family_1d(n, s, xi) # use characteristic window function\n",
    "g = np.reshape(g, (g.shape[0], -1))\n",
    "g_hat = np.reshape(g_hat, (g_hat.shape[0], -1))\n",
    "nwave = g_hat.shape[1]\n",
    "dy = np.zeros(n)\n",
    "ind_dirac = np.random.choice(int(n/2), 3, replace = False) * 2 # randomly select support\n",
    "dy[ind_dirac] = 1\n",
    "\n",
    "sx = scat_coeff(dy, g_hat)"
   ]
  },
  {
   "cell_type": "code",
   "execution_count": 58,
   "metadata": {},
   "outputs": [
    {
     "data": {
      "text/plain": [
       "[<matplotlib.lines.Line2D at 0x1c15c92748>]"
      ]
     },
     "execution_count": 58,
     "metadata": {},
     "output_type": "execute_result"
    },
    {
     "data": {
      "image/png": "[encoded data removed]",
      "text/plain": [
       "<matplotlib.figure.Figure at 0x1c15b60160>"
      ]
     },
     "metadata": {},
     "output_type": "display_data"
    }
   ],
   "source": [
    "plt.plot(dy)"
   ]
  },
  {
   "cell_type": "code",
   "execution_count": 59,
   "metadata": {},
   "outputs": [
    {
     "data": {
      "text/plain": [
       "array([  1,   2,   4,   8,  10,  16,  23,  31,  41,  63,  75, 118])"
      ]
     },
     "execution_count": 59,
     "metadata": {},
     "output_type": "execute_result"
    }
   ],
   "source": [
    "s"
   ]
  },
  {
   "cell_type": "code",
   "execution_count": 60,
   "metadata": {},
   "outputs": [
    {
     "data": {
      "text/plain": [
       "(256, 24)"
      ]
     },
     "execution_count": 60,
     "metadata": {},
     "output_type": "execute_result"
    }
   ],
   "source": [
    "g_hat.shape"
   ]
  },
  {
   "cell_type": "code",
   "execution_count": 61,
   "metadata": {},
   "outputs": [],
   "source": [
    "# plt.figure(figsize = (15,10))\n",
    "# ind = np.arange(100) - 50\n",
    "# for i in range(nwave):\n",
    "# #     plt.subplot(5,4, i+1)\n",
    "#     plt.plot(np.abs(g[:,i]))\n",
    "    "
   ]
  },
  {
   "cell_type": "code",
   "execution_count": 62,
   "metadata": {},
   "outputs": [
    {
     "name": "stdout",
     "output_type": "stream",
     "text": [
      "epoch: 1\n",
      "current error: 5.288227175259248e-15\n",
      "current error: 1.8755191344853968e-16\n",
      "current error: 1.6206919820603488e-16\n",
      "current error: 3.6119647594242217e-06\n",
      "current error: 9.021729815111081e-08\n",
      "current error: 1.0110595126648026e-07\n",
      "current error: 1.0722967104668984e-07\n",
      "current error: 5.650951268734288e-09\n",
      "current error: 1.6796778732114674e-08\n",
      "current error: 3.6773146197350574e-07\n",
      "current error: 0.0012853659801475383\n",
      "current error: 0.0008674777587887763\n",
      "current error: 0.0010391010172004144\n",
      "current error: 0.00118722208597548\n",
      "current error: 0.0013870047555313474\n",
      "current error: 0.07241365340472673\n",
      "current error: 0.08407692697423563\n",
      "current error: 0.09870437627570396\n",
      "current error: 0.1634545509716589\n",
      "current error: 0.40619218658414874\n",
      "current error: 0.33964896394121125\n",
      "current error: 0.3199980988881614\n",
      "current error: 0.34581106743755236\n",
      "current error: 0.3455597473659297\n",
      "running time:  968.5609889030457\n"
     ]
    }
   ],
   "source": [
    "res = synthesis(sx, dy, g_hat, g, max_err, max_epoch)"
   ]
  },
  {
   "cell_type": "code",
   "execution_count": 63,
   "metadata": {},
   "outputs": [],
   "source": [
    "# load results synthesized by previous optimization method(add one wavelet each optimization)\n",
    "# res1 = np.load('res_poisson14.npy')\n",
    "# g_hat1 = np.load('g_hat3.npy')\n",
    "# sx = np.load('f14.npy')\n",
    "res1 = res"
   ]
  },
  {
   "cell_type": "code",
   "execution_count": 64,
   "metadata": {},
   "outputs": [
    {
     "data": {
      "text/plain": [
       "(256, 24)"
      ]
     },
     "execution_count": 64,
     "metadata": {},
     "output_type": "execute_result"
    }
   ],
   "source": [
    "g_hat.shape"
   ]
  },
  {
   "cell_type": "code",
   "execution_count": 65,
   "metadata": {},
   "outputs": [
    {
     "data": {
      "text/plain": [
       "Text(0.5,1,'synthesized signal')"
      ]
     },
     "execution_count": 65,
     "metadata": {},
     "output_type": "execute_result"
    },
    {
     "data": {
      "image/png": "[encoded data removed]",
      "text/plain": [
       "<matplotlib.figure.Figure at 0x1c15cca9b0>"
      ]
     },
     "metadata": {},
     "output_type": "display_data"
    }
   ],
   "source": [
    "# fig = plt.figure()\n",
    "# plt.figure(figsize = (5,5))\n",
    "# plt.subplot(2,1,1)\n",
    "# plt.plot(res1[:, 0]) # target signal\n",
    "# plt.title('original signal')\n",
    "# ax2 = plt.subplot(2,1,2)\n",
    "# for i in range(res1.shape[1] - 1):\n",
    "#     ax2.clear()\n",
    "#     ax2.plot(res1[:, i+1]) # synthesized signal from each iteration\n",
    "#     ax2.set_title('synthesized signal')\n",
    "#     print(i)\n",
    "#     plt.tight_layout()\n",
    "#     display.clear_output(wait=True)\n",
    "#     display.display(plt.gcf())\n",
    "#     time.sleep(0.5)\n",
    "\n",
    "plt.figure(figsize = (10, 8))\n",
    "plt.subplot(2,1,1)\n",
    "plt.plot(dy) # target signal\n",
    "plt.title('original signal')\n",
    "ax2 = plt.subplot(2,1,2)\n",
    "plt.plot(res1[:, -1])\n",
    "plt.title('synthesized signal')\n",
    "# plt.savefig('syn_bump')"
   ]
  },
  {
   "cell_type": "code",
   "execution_count": 35,
   "metadata": {},
   "outputs": [
    {
     "data": {
      "image/png": "[encoded data removed]",
      "text/plain": [
       "<matplotlib.figure.Figure at 0x1c146e3240>"
      ]
     },
     "metadata": {},
     "output_type": "display_data"
    }
   ],
   "source": [
    "plt.figure(figsize = (10, 6))\n",
    "plt.plot(res1[:, 0]) # target signal\n",
    "# plt.plot(res1[:, -1])\n",
    "plt.savefig('3-diracs')"
   ]
  },
  {
   "cell_type": "code",
   "execution_count": 116,
   "metadata": {},
   "outputs": [
    {
     "name": "stdout",
     "output_type": "stream",
     "text": [
      "scattering of target: [ 1.          0.36787944  0.89507372  1.12495494  1.78678408  2.44532985\n",
      "  3.55127236  4.88341209  7.10392296  9.98987632 14.20780028 19.97972183\n",
      " 28.41560423]\n",
      "scattering of synthesized: [ 0.99998944  0.36790947  0.8950975   1.12497451  1.78679634  2.44533611\n",
      "  3.55127926  4.883419    7.10393174  9.98988789 14.20781583 19.97974315\n",
      " 28.41557149]\n",
      "scattering difference with wavelets in optimization process: 4.22678811928459e-09\n"
     ]
    }
   ],
   "source": [
    "y0 = res1[:,-1]\n",
    "x = res1[:,0]\n",
    "sy = np.sum(np.abs(wave_trans_in_freq_1d(y0, g_hat)), axis = 0)\n",
    "# sy = np.append(np.sum(np.abs(y0)), sy)\n",
    "sy = np.append(np.sum(y0), sy)\n",
    "print('scattering of target:', sx)\n",
    "print('scattering of synthesized:', sy)\n",
    "print('scattering difference with wavelets in optimization process:', np.sum((sy - sx)**2))"
   ]
  },
  {
   "cell_type": "code",
   "execution_count": null,
   "metadata": {},
   "outputs": [],
   "source": []
  }
 ],
 "metadata": {
  "kernelspec": {
   "display_name": "Python 3",
   "language": "python",
   "name": "python3"
  }
 },
 "nbformat": 4,
 "nbformat_minor": 2
}
