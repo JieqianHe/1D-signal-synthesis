{
 "cells": [
  {
   "cell_type": "code",
   "execution_count": 1,
   "metadata": {},
   "outputs": [],
   "source": [
    "import numpy as np\n",
    "import math\n",
    "import cmath\n",
    "import matplotlib.pyplot as plt\n",
    "from scipy import signal\n",
    "from scipy.optimize import least_squares\n",
    "from scipy.optimize import minimize\n",
    "from scipy.io import loadmat\n",
    "import random\n",
    "from numpy import linalg as LA\n",
    "import time\n",
    "from IPython import display\n",
    "\n",
    "# import functions from other python files\n",
    "from fun1d import *\n",
    "from optim import *"
   ]
  },
  {
   "cell_type": "code",
   "execution_count": 56,
   "metadata": {},
   "outputs": [],
   "source": [
    "class parameter:\n",
    "    def __init__(self, niter, nepoch, nbatch, optim, eta, beta, gamma, epsilon):\n",
    "        self.niter = niter\n",
    "        self.nepoch = nepoch\n",
    "        self.nbatch = nbatch\n",
    "        self.optim = optim # optimization option\n",
    "        self.eta = eta\n",
    "        self.beta = beta\n",
    "        self.gamma = gamma\n",
    "        self.epsilon = epsilon"
   ]
  },
  {
   "cell_type": "code",
   "execution_count": 63,
   "metadata": {},
   "outputs": [],
   "source": [
    "def syn_SGD(x, psi_hat, psi, param, *args):\n",
    "    # collect parameters\n",
    "    nx = x.shape\n",
    "    nw = psi_hat.shape[1]  # number of wavelets \n",
    "    max_epoch = param.nepoch\n",
    "    optim = param.optim\n",
    "    \n",
    "    # scattering coefficients of original signal\n",
    "    sx = np.sum(np.abs(wave_trans_in_freq_1d(x, psi_hat)),axis = 0)\n",
    "\n",
    "    # initialize new signal\n",
    "    narg = len(args)\n",
    "    if narg == 0:\n",
    "        y0 = np.random.random(nx[0]) \n",
    "    else:\n",
    "        y0 = args[0]\n",
    "        \n",
    "    res = np.zeros((nx[0], max_epoch))\n",
    "    for i in range(max_epoch):\n",
    "        print('epoch: ', i)\n",
    "        if optim == 'sgd':\n",
    "            res[:, i] = sgd(y0, sx, psi_hat, psi, param)\n",
    "        elif optim == 'sgd_with_mom':\n",
    "            res[:, i] = sgd_with_mom(y0, sx, psi_hat, psi, param)\n",
    "        elif optim == 'nag':\n",
    "            res[:, i] = nag(y0, sx, psi_hat, psi, param)\n",
    "        elif optim == 'rmsprop':\n",
    "            res[:, i] = rmsprop(y0, sx, psi_hat, psi, param)\n",
    "        elif optim == 'adam':\n",
    "            res[:, i] = adam(y0, sx, psi_hat, psi, param)\n",
    "        else:\n",
    "            print('No such optimization algorithm.')\n",
    "            break\n",
    "        y0 = res[:, i]\n",
    "        sy = np.sum(np.abs(wave_trans_in_freq_1d(y0, psi_hat)),axis = 0)\n",
    "        print('current error: ', np.sum((sx - sy)**2))\n",
    "    return res\n",
    "\n",
    "def jacfun(y0, sx, psi_hat, psi):\n",
    "    # jacobian function for difference\n",
    "    epsilon = 1e-6\n",
    "    n = y0.shape[0]\n",
    "    nw = psi_hat.shape[1]\n",
    "    \n",
    "    temp1 = wave_trans_in_freq_1d(y0, psi_hat)\n",
    "    temp3 = np.zeros(n)\n",
    "    \n",
    "    psi_shift = np.zeros((n,n), dtype = complex)\n",
    "    \n",
    "    sy = np.sum(np.abs(temp1), axis = 0)\n",
    "    \n",
    "    for i in range(nw):\n",
    "        temp2 = temp1[:,i]\n",
    "        for p in range(n):\n",
    "            psi_shift[:, p] = np.roll(psi[:, i], p, axis = 0)\n",
    "        temp = np.matmul(np.divide(np.real(temp2), abs(temp2) + epsilon), np.real(psi_shift)) + \\\n",
    "               np.matmul(np.divide(np.imag(temp2), abs(temp2) + epsilon), np.imag(psi_shift))\n",
    "        temp3 = temp3 + 2 * (sy[i] - sx[i]) * temp\n",
    "    return temp3"
   ]
  },
  {
   "cell_type": "code",
   "execution_count": 79,
   "metadata": {},
   "outputs": [],
   "source": [
    "# set parameters\n",
    "n = 2**10\n",
    "pi = math.pi\n",
    "l = 0.05\n",
    "\n",
    "niter = 100\n",
    "nbatch = 10\n",
    "nepoch = 5\n",
    "eta = 1e-3\n",
    "beta = 0.99\n",
    "gamma = 0.9\n",
    "epsilon = 1e-8\n",
    "optim = 'adam'\n",
    "\n",
    "param = parameter(niter = niter, \n",
    "                  nepoch = nepoch, \n",
    "                  nbatch = nbatch, \n",
    "                  optim = optim, \n",
    "                  eta = eta, \n",
    "                  beta = beta, \n",
    "                  gamma = gamma, \n",
    "                  epsilon = epsilon)\n",
    "# sample signal\n",
    "t = np.linspace(0, n + 1, n + 1)\n",
    "y = sample_poisson(t, l)[0]\n",
    "dy = np.diff(y)\n",
    "\n",
    "# set up scales s and frequencies xi\n",
    "s = np.unique(np.floor(2 ** np.linspace(1/2, np.log2(n/2), int(2*np.log2(n/2)))))\n",
    "xi = 2 * pi * np.random.choice(n,1) / n\n",
    "\n",
    "# build wavelets\n",
    "g, g_hat = window_filter_family_1d(n, s, xi)\n",
    "g = np.reshape(g, (g.shape[0], -1))\n",
    "g_hat = np.reshape(g_hat, (g_hat.shape[0], -1))\n"
   ]
  },
  {
   "cell_type": "code",
   "execution_count": 80,
   "metadata": {},
   "outputs": [
    {
     "name": "stdout",
     "output_type": "stream",
     "text": [
      "epoch:  0\n",
      "current error:  15371918.96971971\n",
      "epoch:  1\n",
      "current error:  14496167.864322323\n",
      "epoch:  2\n",
      "current error:  17332810.307287253\n",
      "epoch:  3\n",
      "current error:  13645254.513165012\n",
      "epoch:  4\n",
      "current error:  12233252.085379167\n"
     ]
    }
   ],
   "source": [
    "# use SGD to synthesis\n",
    "res = syn_SGD(dy, g_hat, g, param)"
   ]
  },
  {
   "cell_type": "code",
   "execution_count": 4,
   "metadata": {},
   "outputs": [],
   "source": [
    "# compute f\n",
    "# nsample = 5000\n",
    "# f = prod_f(g_hat, t, nsample, l)\n",
    "# f1 = np.mean(np.abs(wave_trans_in_freq_1d(dy, g_hat)), axis = 0)"
   ]
  },
  {
   "cell_type": "code",
   "execution_count": 5,
   "metadata": {},
   "outputs": [],
   "source": [
    "# plt.figure(figsize = (10,10))\n",
    "# plt.subplot(2,1,1)\n",
    "# plt.plot(s, np.divide(f,s)) # ||w||_1 = 1 for standard gaussian\n",
    "# plt.ylabel('f_xi(s)/s||w||_1')\n",
    "# plt.xlabel('s')\n",
    "# plt.subplot(2,1,2)\n",
    "# plt.plot(s, np.divide(f1,s)) # ||w||_1 = 1 for standard gaussian\n",
    "# plt.ylabel('f_xi(s)/s||w||_1')\n",
    "# plt.xlabel('s')"
   ]
  },
  {
   "cell_type": "code",
   "execution_count": 84,
   "metadata": {},
   "outputs": [
    {
     "data": {
      "text/plain": [
       "(1024, 53)"
      ]
     },
     "execution_count": 84,
     "metadata": {},
     "output_type": "execute_result"
    }
   ],
   "source": [
    "# load results synthesized by previous optimization method(add one wavelet each optimization)\n",
    "res1 = np.load('res_poisson2.npy')\n",
    "g_hat1 = np.load('g_hat.npy')\n",
    "res1.shape"
   ]
  },
  {
   "cell_type": "code",
   "execution_count": 87,
   "metadata": {},
   "outputs": [
    {
     "data": {
      "image/png": "[encoded data removed]",
      "text/plain": [
       "<matplotlib.figure.Figure at 0x1c092b9390>"
      ]
     },
     "metadata": {},
     "output_type": "display_data"
    },
    {
     "data": {
      "text/plain": [
       "<matplotlib.figure.Figure at 0x1c092b9780>"
      ]
     },
     "metadata": {},
     "output_type": "display_data"
    },
    {
     "data": {
      "image/png": "[encoded data removed]",
      "text/plain": [
       "<matplotlib.figure.Figure at 0x1c092b9390>"
      ]
     },
     "metadata": {},
     "output_type": "display_data"
    }
   ],
   "source": [
    "fig = plt.figure()\n",
    "plt.figure(figsize = (5,5))\n",
    "plt.subplot(2,1,1)\n",
    "plt.plot(res1[:, 0]) # target signal\n",
    "plt.title('original signal')\n",
    "ax2 = plt.subplot(2,1,2)\n",
    "for i in range(res1.shape[1] - 1):\n",
    "    ax2.clear()\n",
    "    ax2.plot(res1[:, i+1]) # synthesized signal from each iteration\n",
    "    ax2.set_title('synthesized signal')\n",
    "    print(i)\n",
    "    plt.tight_layout()\n",
    "    display.clear_output(wait=True)\n",
    "    display.display(plt.gcf())\n",
    "    time.sleep(0.5)"
   ]
  },
  {
   "cell_type": "code",
   "execution_count": 91,
   "metadata": {},
   "outputs": [
    {
     "name": "stdout",
     "output_type": "stream",
     "text": [
      "scattering difference with wavelets in optimization process: 2.357100850320207e-16\n"
     ]
    }
   ],
   "source": [
    "y0 = res1[:,-1]\n",
    "x = res1[:,0]\n",
    "sy = np.sum(np.abs(wave_trans_in_freq_1d(res1[:,-1], g_hat1)), axis = 0)\n",
    "sx = np.sum(np.abs(wave_trans_in_freq_1d(res1[:,0], g_hat1)), axis = 0)\n",
    "print('scattering difference with wavelets in optimization process:', np.sum((sx - sy)**2))"
   ]
  },
  {
   "cell_type": "code",
   "execution_count": 94,
   "metadata": {},
   "outputs": [
    {
     "name": "stdout",
     "output_type": "stream",
     "text": [
      "scattering difference with wavelets defined by another xi: 8937685.237032149\n"
     ]
    }
   ],
   "source": [
    "y0 = res1[:,-1]\n",
    "x = res1[:,0]\n",
    "sy = np.sum(np.abs(wave_trans_in_freq_1d(res1[:,-1], g_hat)), axis = 0)\n",
    "sx = np.sum(np.abs(wave_trans_in_freq_1d(res1[:,0], g_hat)), axis = 0)\n",
    "print('scattering difference with wavelets defined by another xi:', np.sum((sx - sy)**2))"
   ]
  },
  {
   "cell_type": "code",
   "execution_count": null,
   "metadata": {},
   "outputs": [],
   "source": []
  }
 ],
 "metadata": {
  "kernelspec": {
   "display_name": "Python 3",
   "language": "python",
   "name": "python3"
  },
  "language_info": {
   "codemirror_mode": {
    "name": "ipython",
    "version": 3
   },
   "file_extension": ".py",
   "mimetype": "text/x-python",
   "name": "python",
   "nbconvert_exporter": "python",
   "pygments_lexer": "ipython3",
   "version": "3.6.4"
  }
 },
 "nbformat": 4,
 "nbformat_minor": 2
}
