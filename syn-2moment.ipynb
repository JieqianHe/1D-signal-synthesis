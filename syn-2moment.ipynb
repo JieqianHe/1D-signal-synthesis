{
 "cells": [
  {
   "cell_type": "code",
   "execution_count": 2,
   "metadata": {},
   "outputs": [],
   "source": [
    "import numpy as np\n",
    "import math\n",
    "import cmath\n",
    "import matplotlib.pyplot as plt\n",
    "from scipy import signal\n",
    "from scipy.optimize import least_squares\n",
    "from scipy.optimize import minimize\n",
    "from scipy.io import loadmat\n",
    "import random\n",
    "from numpy import linalg as LA\n",
    "import time\n",
    "from IPython import display\n",
    "\n",
    "# import functions from other python files\n",
    "from fun1d import *"
   ]
  },
  {
   "cell_type": "code",
   "execution_count": 3,
   "metadata": {},
   "outputs": [],
   "source": [
    "def diff_2mom(y0, sigmax, sx, psi_hat, psi):\n",
    "    wy = wave_trans_in_freq_1d(y0, psi_hat)\n",
    "    sy = np.sum(np.abs(wy),axis = 0)\n",
    "#     sigmay = np.matmul(np.transpose(wy), np.conjugate(wy)) # covariance\n",
    "    sigmay = np.sum(np.abs(wy)**2, axis = 0) # (diagonal covariance) 2nd moments\n",
    "    diff = np.sum((sx - sy)**2) + np.sum((sigmay - sigmax)**2)\n",
    "return diff\n",
    "\n",
    "def jac_2mom(y0, sigmax, sx, psi_hat, psi):\n",
    "    # jacobian function for difference\n",
    "    epsilon = 1e-6\n",
    "    n = y0.shape[0]\n",
    "    nw = psi_hat.shape[1]\n",
    "    \n",
    "    if nw == len(sx):\n",
    "        z = False\n",
    "        sx_z = np.append([0], sx)\n",
    "    else:\n",
    "        z = True\n",
    "        sx_z = sx\n",
    "    \n",
    "    wy = wave_trans_in_freq_1d(y0, psi_hat)\n",
    "    temp1 = jac(y0, sx_z, psi_hat, psi, z) # first moment derivative\n",
    "    temp = np.zeros((n,nw))\n",
    "    \n",
    "    psi_shift = np.zeros((n,n,nw), dtype = complex)\n",
    "    psi_fftshift = np.fft.fftshift(psi, axes = 0)\n",
    "    \n",
    "    sigmay = np.sum(np.abs(wy)**2, axis = 0)\n",
    "    \n",
    "    for i in range(nw):\n",
    "        for p in range(n):\n",
    "            psi_shift[:, p, i] = np.roll(psi_fftshift[:,i], p, axis = 0)\n",
    "        temp = 2 * np.matmul(np.real(wy[:,i]), np.real(psi_shift[:,:,i])) + \\\n",
    "                    2 * np.matmul(np.imag(wy[:,i]), np.imag(psi_shift[:,:,i]))\n",
    "        temp1 = temp1 + 2 * (sigmay[i] - sigmax[i]) * temp\n",
    "    return temp1\n",
    "\n",
    "\n",
    "def syn_2mom(x, psi_hat, psi, jacob, max_err, max_epoch, *args):\n",
    "    # collect parameters\n",
    "    nx = x.shape\n",
    "    nw = psi_hat.shape[1]  # number of wavelets \n",
    "    \n",
    "    # scattering coefficients of original signal\n",
    "    wx = wave_trans_in_freq_1d(x, psi_hat)\n",
    "    sx = np.sum(np.abs(wx), axis = 0)\n",
    "    sx = np.append(np.sum(x), sx)\n",
    "    sigmax = np.sum(np.abs(wx)**2, axis = 0)\n",
    "\n",
    "    # initialize new signal\n",
    "    narg = len(args)\n",
    "    if narg == 0:\n",
    "        y0 = np.random.random((nx[0],1)) \n",
    "    else:\n",
    "        y0 = args[0]\n",
    "        \n",
    "    y = y0\n",
    "    \n",
    "    err = 1\n",
    "    epoch = 0\n",
    "    tic = time.time()\n",
    "    while (epoch < max_epoch):\n",
    "        \n",
    "        epoch += 1\n",
    "        ind = np.random.choice(nw, nw, replace = False) # randomize index of wavelets\n",
    "        print('epoch:', epoch)\n",
    "        \n",
    "        for i in range(nw):\n",
    "            # specify jacobian\n",
    "            if jacob:\n",
    "                res = minimize(diff_2mom, y0, args = (sigmax[ind[0:i+1]], \\\n",
    "                                                      sx[ind[0:i+1]], \\\n",
    "                                                      psi_hat[:,ind[0:i+1]], \\\n",
    "                                                      psi[:,ind[0:i+1]]), \\\n",
    "                               jac = jac_2mom, method='BFGS')\n",
    "            # not specify jacobian\n",
    "            else:\n",
    "                res = minimize(diff_2mom, y0, args = (sigmax[ind[0:i+1]], \\\n",
    "                                                      sx[ind[0:i+1]], \\\n",
    "                                                      psi_hat[:,ind[0:i+1]], \\\n",
    "                                                      psi[:,ind[0:i+1]]), \\\n",
    "                               method='BFGS')\n",
    "            y0 = res.x\n",
    "            y = np.append(y, np.reshape(y0, (y0.shape[0], 1)), axis = 1)\n",
    "            \n",
    "            err = res.fun\n",
    "#             print('current error:', err)\n",
    "        \n",
    "    toc = time.time()\n",
    "#     print('running time: ', toc - tic)\n",
    "    return y"
   ]
  },
  {
   "cell_type": "code",
   "execution_count": 4,
   "metadata": {},
   "outputs": [],
   "source": [
    "n = 1024\n",
    "l = 0.01\n",
    "pi = math.pi\n",
    "max_err = 1e-7\n",
    "max_epoch = 3\n",
    "jacob = True\n",
    "z = False\n",
    "epsilon = 1e-4\n",
    "\n",
    "# define filters\n",
    "sigma = determine_sigma(epsilon)\n",
    "Q = 2\n",
    "alpha = 2\n",
    "J = determine_J(n, Q, sigma, alpha)\n",
    "s = np.unique(np.floor(2 ** np.linspace(0, J, int(J*Q)+1)))\n",
    "xi = 2 * pi * np.random.choice(n,1) / n\n",
    "g, g_hat = window_filter_family_1d(n, s, xi, sigma)\n",
    "g = np.reshape(g, (g.shape[0], -1))\n",
    "g_hat = np.reshape(g_hat, (g_hat.shape[0], -1))\n",
    "\n",
    "t = np.linspace(0, n + 1, n + 1)\n",
    "y = sample_poisson(t, l)[0]\n",
    "dy = np.diff(y)\n"
   ]
  },
  {
   "cell_type": "code",
   "execution_count": 28,
   "metadata": {},
   "outputs": [],
   "source": [
    "# res = syn_2mom(dy, g_hat, g, jacob, max_err, max_epoch)"
   ]
  },
  {
   "cell_type": "code",
   "execution_count": 5,
   "metadata": {},
   "outputs": [],
   "source": [
    "# load results synthesized by previous optimization method(add one wavelet each optimization)\n",
    "res1 = np.load('res_2mom1.npy')\n",
    "g_hat1 = np.load('g_hat_2mom1.npy')"
   ]
  },
  {
   "cell_type": "code",
   "execution_count": 27,
   "metadata": {},
   "outputs": [
    {
     "data": {
      "image/png": "[encoded data removed]",
      "text/plain": [
       "<matplotlib.figure.Figure at 0x1c1732f5c0>"
      ]
     },
     "metadata": {},
     "output_type": "display_data"
    },
    {
     "data": {
      "text/plain": [
       "<matplotlib.figure.Figure at 0x1c1732f240>"
      ]
     },
     "metadata": {},
     "output_type": "display_data"
    },
    {
     "data": {
      "image/png": "[encoded data removed]",
      "text/plain": [
       "<matplotlib.figure.Figure at 0x1c1732f5c0>"
      ]
     },
     "metadata": {},
     "output_type": "display_data"
    }
   ],
   "source": [
    "fig = plt.figure()\n",
    "plt.figure(figsize = (5,5))\n",
    "plt.subplot(2,1,1)\n",
    "plt.plot(res1[:, 0]) # target signal\n",
    "plt.title('original signal')\n",
    "ax2 = plt.subplot(2,1,2)\n",
    "for i in range(res1.shape[1] - 1):\n",
    "    ax2.clear()\n",
    "    ax2.plot(res1[:, i+1]) # synthesized signal from each iteration\n",
    "    ax2.set_title('synthesized signal')\n",
    "    print(i)\n",
    "    plt.tight_layout()\n",
    "    display.clear_output(wait=True)\n",
    "    display.display(plt.gcf())\n",
    "    time.sleep(0.5)\n",
    "    \n"
   ]
  },
  {
   "cell_type": "code",
   "execution_count": 22,
   "metadata": {},
   "outputs": [],
   "source": [
    "# fig = plt.figure()\n",
    "# plt.figure(figsize = (5,5))\n",
    "# plt.subplot(2,1,1)\n",
    "# plt.plot(res1[:, 0]) # target signal\n",
    "# plt.title('original signal')\n",
    "# ax2 = plt.subplot(2,1,2)\n",
    "# plt.plot(res1[:, -1])\n",
    "# plt.title('synthesized signal')"
   ]
  },
  {
   "cell_type": "code",
   "execution_count": 1,
   "metadata": {},
   "outputs": [],
   "source": [
    "\n",
    "# for i in range(res1.shape[1]):\n",
    "#     y0 = res1[:,i]\n",
    "#     x = res1[:,0]\n",
    "#     wx = wave_trans_in_freq_1d(x, g_hat1)\n",
    "#     wy = wave_trans_in_freq_1d(y0, g_hat1)\n",
    "#     sx = np.sum(np.abs(wx), axis = 0)\n",
    "#     sy = np.sum(np.abs(wy), axis = 0)\n",
    "\n",
    "#     # sx = np.sum(np.abs(wave_trans_in_freq_1d(res1[:,0], g_hat1)), axis = 0)\n",
    "#     print('first moment difference:', np.sum((sx - sy)**2))\n",
    "    "
   ]
  },
  {
   "cell_type": "code",
   "execution_count": 2,
   "metadata": {},
   "outputs": [],
   "source": [
    "# for i in range(res1.shape[1]):\n",
    "#     y0 = res1[:,i]\n",
    "#     x = res1[:,0]\n",
    "#     wx = wave_trans_in_freq_1d(x, g_hat1)\n",
    "#     wy = wave_trans_in_freq_1d(y0, g_hat1)\n",
    "#     sigmax = np.sum(np.abs(wx)**2, axis = 0)\n",
    "#     sigmay = np.sum(np.abs(wy)**2, axis = 0)\n",
    "#     print('2nd moment difference:', np.sum((sigmax - sigmay)**2))"
   ]
  },
  {
   "cell_type": "code",
   "execution_count": null,
   "metadata": {},
   "outputs": [],
   "source": []
  }
 ],
 "metadata": {
  "kernelspec": {
   "display_name": "Python 3",
   "language": "python",
   "name": "python3"
  },
  "language_info": {
   "codemirror_mode": {
    "name": "ipython",
    "version": 3
   },
   "file_extension": ".py",
   "mimetype": "text/x-python",
   "name": "python",
   "nbconvert_exporter": "python",
   "pygments_lexer": "ipython3",
   "version": "3.6.4"
  }
 },
 "nbformat": 4,
 "nbformat_minor": 2
}
